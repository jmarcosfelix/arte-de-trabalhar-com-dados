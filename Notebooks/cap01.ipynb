{
 "cells": [
  {
   "cell_type": "code",
   "execution_count": 1,
   "id": "initial_id",
   "metadata": {
    "ExecuteTime": {
     "end_time": "2023-10-02T01:29:34.457796900Z",
     "start_time": "2023-10-02T01:29:33.641807300Z"
    }
   },
   "outputs": [],
   "source": [
    "import pandas as pd"
   ]
  },
  {
   "cell_type": "code",
   "execution_count": 2,
   "id": "12709028033beb52",
   "metadata": {
    "collapsed": false,
    "ExecuteTime": {
     "end_time": "2023-10-02T01:29:34.493862100Z",
     "start_time": "2023-10-02T01:29:34.457796900Z"
    }
   },
   "outputs": [
    {
     "data": {
      "text/plain": "    ID        BAIRO   TIPO Nº de Quartos  Preço\n0    1        Barra  Apto.             2    165\n1    2        Barra  Apto.             3    240\n2    3        Barra  Cobt.           NaN    158\n3    4        Barra   Sala           NaN    150\n4    5     Botafogo  Apto.             2     59\n5    6       Catete  Apto.             1     54\n6    7       Centro   Sala           NaN     35\n7    8   Copacabana  Apto.             2     83\n8    9   Copacabana  Apto.             3    180\n9   10   Copacabana  Apto.            4+     85\n10  11     Flamengo  Apto.             1     58\n11  12     Flamengo  Cobt.           NaN    120\n12  13        Gávea  Apto.            4+    250\n13  14      Ipanema  Apto.             3    130\n14  15  Jacarepaguá  Apto.             3     90\n15  16        Lagoa  Apto.             2    130\n16  17  Laranjeiras  Apto.             2     68\n17  18  Laranjeiras  Apto.            4+    360\n18  19       Leblon  Apto.             3    300\n19  20       Leblon  Apto.            4+    600\n20  21     Maracanã  Apto.             3    137\n21  22      Recreio  Cobt.           NaN    240\n22  23  São Conrado   Casa            4+    650\n23  24       Tijuca  Apto.             2     49\n24  25       Tijuca  Apto.             2     95\n25  26       Tijuca  Apto.            4+    170\n26  27  Vila Isabel  Apto.             2     57",
      "text/html": "<div>\n<style scoped>\n    .dataframe tbody tr th:only-of-type {\n        vertical-align: middle;\n    }\n\n    .dataframe tbody tr th {\n        vertical-align: top;\n    }\n\n    .dataframe thead th {\n        text-align: right;\n    }\n</style>\n<table border=\"1\" class=\"dataframe\">\n  <thead>\n    <tr style=\"text-align: right;\">\n      <th></th>\n      <th>ID</th>\n      <th>BAIRO</th>\n      <th>TIPO</th>\n      <th>Nº de Quartos</th>\n      <th>Preço</th>\n    </tr>\n  </thead>\n  <tbody>\n    <tr>\n      <th>0</th>\n      <td>1</td>\n      <td>Barra</td>\n      <td>Apto.</td>\n      <td>2</td>\n      <td>165</td>\n    </tr>\n    <tr>\n      <th>1</th>\n      <td>2</td>\n      <td>Barra</td>\n      <td>Apto.</td>\n      <td>3</td>\n      <td>240</td>\n    </tr>\n    <tr>\n      <th>2</th>\n      <td>3</td>\n      <td>Barra</td>\n      <td>Cobt.</td>\n      <td>NaN</td>\n      <td>158</td>\n    </tr>\n    <tr>\n      <th>3</th>\n      <td>4</td>\n      <td>Barra</td>\n      <td>Sala</td>\n      <td>NaN</td>\n      <td>150</td>\n    </tr>\n    <tr>\n      <th>4</th>\n      <td>5</td>\n      <td>Botafogo</td>\n      <td>Apto.</td>\n      <td>2</td>\n      <td>59</td>\n    </tr>\n    <tr>\n      <th>5</th>\n      <td>6</td>\n      <td>Catete</td>\n      <td>Apto.</td>\n      <td>1</td>\n      <td>54</td>\n    </tr>\n    <tr>\n      <th>6</th>\n      <td>7</td>\n      <td>Centro</td>\n      <td>Sala</td>\n      <td>NaN</td>\n      <td>35</td>\n    </tr>\n    <tr>\n      <th>7</th>\n      <td>8</td>\n      <td>Copacabana</td>\n      <td>Apto.</td>\n      <td>2</td>\n      <td>83</td>\n    </tr>\n    <tr>\n      <th>8</th>\n      <td>9</td>\n      <td>Copacabana</td>\n      <td>Apto.</td>\n      <td>3</td>\n      <td>180</td>\n    </tr>\n    <tr>\n      <th>9</th>\n      <td>10</td>\n      <td>Copacabana</td>\n      <td>Apto.</td>\n      <td>4+</td>\n      <td>85</td>\n    </tr>\n    <tr>\n      <th>10</th>\n      <td>11</td>\n      <td>Flamengo</td>\n      <td>Apto.</td>\n      <td>1</td>\n      <td>58</td>\n    </tr>\n    <tr>\n      <th>11</th>\n      <td>12</td>\n      <td>Flamengo</td>\n      <td>Cobt.</td>\n      <td>NaN</td>\n      <td>120</td>\n    </tr>\n    <tr>\n      <th>12</th>\n      <td>13</td>\n      <td>Gávea</td>\n      <td>Apto.</td>\n      <td>4+</td>\n      <td>250</td>\n    </tr>\n    <tr>\n      <th>13</th>\n      <td>14</td>\n      <td>Ipanema</td>\n      <td>Apto.</td>\n      <td>3</td>\n      <td>130</td>\n    </tr>\n    <tr>\n      <th>14</th>\n      <td>15</td>\n      <td>Jacarepaguá</td>\n      <td>Apto.</td>\n      <td>3</td>\n      <td>90</td>\n    </tr>\n    <tr>\n      <th>15</th>\n      <td>16</td>\n      <td>Lagoa</td>\n      <td>Apto.</td>\n      <td>2</td>\n      <td>130</td>\n    </tr>\n    <tr>\n      <th>16</th>\n      <td>17</td>\n      <td>Laranjeiras</td>\n      <td>Apto.</td>\n      <td>2</td>\n      <td>68</td>\n    </tr>\n    <tr>\n      <th>17</th>\n      <td>18</td>\n      <td>Laranjeiras</td>\n      <td>Apto.</td>\n      <td>4+</td>\n      <td>360</td>\n    </tr>\n    <tr>\n      <th>18</th>\n      <td>19</td>\n      <td>Leblon</td>\n      <td>Apto.</td>\n      <td>3</td>\n      <td>300</td>\n    </tr>\n    <tr>\n      <th>19</th>\n      <td>20</td>\n      <td>Leblon</td>\n      <td>Apto.</td>\n      <td>4+</td>\n      <td>600</td>\n    </tr>\n    <tr>\n      <th>20</th>\n      <td>21</td>\n      <td>Maracanã</td>\n      <td>Apto.</td>\n      <td>3</td>\n      <td>137</td>\n    </tr>\n    <tr>\n      <th>21</th>\n      <td>22</td>\n      <td>Recreio</td>\n      <td>Cobt.</td>\n      <td>NaN</td>\n      <td>240</td>\n    </tr>\n    <tr>\n      <th>22</th>\n      <td>23</td>\n      <td>São Conrado</td>\n      <td>Casa</td>\n      <td>4+</td>\n      <td>650</td>\n    </tr>\n    <tr>\n      <th>23</th>\n      <td>24</td>\n      <td>Tijuca</td>\n      <td>Apto.</td>\n      <td>2</td>\n      <td>49</td>\n    </tr>\n    <tr>\n      <th>24</th>\n      <td>25</td>\n      <td>Tijuca</td>\n      <td>Apto.</td>\n      <td>2</td>\n      <td>95</td>\n    </tr>\n    <tr>\n      <th>25</th>\n      <td>26</td>\n      <td>Tijuca</td>\n      <td>Apto.</td>\n      <td>4+</td>\n      <td>170</td>\n    </tr>\n    <tr>\n      <th>26</th>\n      <td>27</td>\n      <td>Vila Isabel</td>\n      <td>Apto.</td>\n      <td>2</td>\n      <td>57</td>\n    </tr>\n  </tbody>\n</table>\n</div>"
     },
     "execution_count": 2,
     "metadata": {},
     "output_type": "execute_result"
    }
   ],
   "source": [
    "# Tabela 1.1\n",
    "\n",
    "df1 = pd.read_csv('../datasets/tabela1_1.csv')\n",
    "df1.columns = ['ID', 'BAIRO', 'TIPO', 'Nº de Quartos', 'Preço']\n",
    "df1"
   ]
  },
  {
   "cell_type": "code",
   "execution_count": 3,
   "id": "bd6afa9acc50d5f3",
   "metadata": {
    "collapsed": false,
    "ExecuteTime": {
     "end_time": "2023-10-02T01:29:34.511932Z",
     "start_time": "2023-10-02T01:29:34.483612500Z"
    }
   },
   "outputs": [
    {
     "name": "stdout",
     "output_type": "stream",
     "text": [
      "Variveis Qualitativas Nominal: BAIRRO e TIPO\n"
     ]
    }
   ],
   "source": [
    "print('Variveis Qualitativas Nominal: %s e %s' % ('BAIRRO', 'TIPO'))"
   ]
  },
  {
   "cell_type": "code",
   "execution_count": 4,
   "id": "da371312a40a63c0",
   "metadata": {
    "collapsed": false,
    "ExecuteTime": {
     "end_time": "2023-10-02T01:29:34.574092700Z",
     "start_time": "2023-10-02T01:29:34.499374100Z"
    }
   },
   "outputs": [
    {
     "name": "stdout",
     "output_type": "stream",
     "text": [
      "Varivel Qualitativa Ordinal: \"Nº de Quartos\"\n"
     ]
    }
   ],
   "source": [
    "print('Varivel Qualitativa Ordinal: %s' % '\"Nº de Quartos\"')"
   ]
  },
  {
   "cell_type": "code",
   "execution_count": 5,
   "id": "b8e29ba3490a8456",
   "metadata": {
    "collapsed": false,
    "ExecuteTime": {
     "end_time": "2023-10-02T01:29:34.614432Z",
     "start_time": "2023-10-02T01:29:34.511932Z"
    }
   },
   "outputs": [
    {
     "name": "stdout",
     "output_type": "stream",
     "text": [
      "Variavel Quantitativa Continua: Preço\n"
     ]
    }
   ],
   "source": [
    "print('Variavel Quantitativa Continua: %s' % 'Preço')"
   ]
  },
  {
   "cell_type": "code",
   "execution_count": 6,
   "id": "f7a1d3df824b4cd5",
   "metadata": {
    "collapsed": false,
    "ExecuteTime": {
     "end_time": "2023-10-02T01:29:34.984446700Z",
     "start_time": "2023-10-02T01:29:34.527748100Z"
    }
   },
   "outputs": [],
   "source": [
    "import numpy as np\n",
    "import decimal\n",
    "#import Conversao as Conv\n",
    "import Funcoes.Conversao as Conv"
   ]
  },
  {
   "cell_type": "code",
   "execution_count": 7,
   "id": "e17c8256d22d1b2e",
   "metadata": {
    "collapsed": false,
    "ExecuteTime": {
     "end_time": "2023-10-02T01:29:35.004438Z",
     "start_time": "2023-10-02T01:29:34.570620Z"
    }
   },
   "outputs": [],
   "source": [
    "#   1.4.1 Tabelas de Frequencia para Variaveis Qualitativas\n",
    "\n",
    "#   Cada linha corresponde a um valor possível da variável\n",
    "#   Usando contagem os valores que constam na coluna de frequência (Frequência Absoluta) são encontrados\n",
    "#   Com os valores da Frequência Absoluta, calcula-se a Frequência Relativa, sobre a forma de percentuais. "
   ]
  },
  {
   "cell_type": "code",
   "execution_count": 8,
   "id": "e365b34ad1783067",
   "metadata": {
    "collapsed": false,
    "ExecuteTime": {
     "end_time": "2023-10-02T01:29:35.014432900Z",
     "start_time": "2023-10-02T01:29:34.580104900Z"
    }
   },
   "outputs": [
    {
     "name": "stdout",
     "output_type": "stream",
     "text": [
      "11.110\t44.450\t44.440\t100.000\n"
     ]
    }
   ],
   "source": [
    "freq1 = Conv.frequencia_relativa([5, 20, 20])"
   ]
  },
  {
   "cell_type": "code",
   "execution_count": 9,
   "id": "1a54fb3970bd6371",
   "metadata": {
    "collapsed": false,
    "ExecuteTime": {
     "end_time": "2023-10-02T01:29:35.044431400Z",
     "start_time": "2023-10-02T01:29:34.624430100Z"
    }
   },
   "outputs": [
    {
     "name": "stdout",
     "output_type": "stream",
     "text": [
      "35.550\t35.560\t26.670\t2.220\t100.000\n"
     ]
    }
   ],
   "source": [
    "freq2 = Conv.frequencia_relativa([16, 16, 12, 1])"
   ]
  },
  {
   "cell_type": "code",
   "execution_count": 10,
   "id": "96e082471246903f",
   "metadata": {
    "collapsed": false,
    "ExecuteTime": {
     "end_time": "2023-10-02T01:29:35.044431400Z",
     "start_time": "2023-10-02T01:29:34.704444Z"
    }
   },
   "outputs": [
    {
     "name": "stdout",
     "output_type": "stream",
     "text": [
      "3.700\t33.350\t18.520\t29.630\t3.700\t3.700\t3.700\t0.000\t3.700\t100.000\n"
     ]
    }
   ],
   "source": [
    "freq3 = Conv.frequencia_relativa([1, 9, 5, 8, 1, 1, 1, 0, 1])"
   ]
  },
  {
   "cell_type": "code",
   "execution_count": 11,
   "id": "2fa65f9a880b7130",
   "metadata": {
    "collapsed": false,
    "ExecuteTime": {
     "end_time": "2023-10-02T01:29:35.054432400Z",
     "start_time": "2023-10-02T01:29:34.754433100Z"
    }
   },
   "outputs": [
    {
     "data": {
      "text/plain": "      id categ  idade  peso  altura   imc classe_imc  cintura  quadril   rcq  \\\n0    ID1     A     61  58.2   154.0  24.5     normal       87      109  0.80   \n1    ID2     S     69  63.0   152.0  27.3  sobrepeso       89      104  0.86   \n2    ID3     S     61  70.1   158.0  28.1  sobrepeso      106      123  0.86   \n3    ID4     S     71  73.2   156.0  30.1  sobrepeso      110      122  0.90   \n4    ID5     A     63  58.6   152.0  25.4  sobrepeso       99      121  0.82   \n5    ID6     S     71  77.0   160.0  30.1  sobrepeso      125      132  0.95   \n6    ID7     S     72  76.2   165.0  28.0  sobrepeso      115      125  0.92   \n7    ID8     S     68  59.8   160.0  23.4     normal       85      103  0.83   \n8    ID9     A     66  64.3   155.0  26.8  sobrepeso      100      120  0.83   \n9   ID10     S     69  52.1   151.0  22.8     normal       74       83  0.89   \n10  ID11     S     72  62.0   156.0  22.5  sobrepeso       90      111  0.81   \n11  ID12     S     67  52.1   151.0  22.8     normal       76       90  0.84   \n12  ID13     S     63  58.0   157.0  23.5     normal       80      102  0.78   \n13  ID14     S     66  55.0   154.0  23.2     normal       78       96  0.81   \n14  ID15     S     63  50.1   157.0  20.3     normal       72       81  0.89   \n15  ID16     A     63  57.9   160.0  22.6     normal       78       90  0.87   \n16  ID17     A     60  58.2   156.0  23.9     normal       80      108  0.74   \n17  ID18     A     67  56.2   152.0  24.3     normal       76       95  0.80   \n18  ID19     A     71  68.6   159.0  27.1  sobrepeso      106      117  0.91   \n19  ID20     A     63  51.0   150.0  22.7     normal       71       83  0.86   \n20  ID21     A     60  53.4   150.0  23.7     normal       76       89  0.85   \n21  ID22     A     69  61.3   154.0  25.8  sobrepeso       89      106  0.84   \n22  ID23     A     64  53.2   158.0  21.3     normal       73       86  0.85   \n23  ID24     A     63  54.6   150.0  24.3     normal       80      108  0.74   \n24  ID25     A     66  56.2   152.0  24.3     normal       84      110  0.76   \n25  ID26     A     71  60.3   156.0  24.8     normal       82       99  0.83   \n26  ID27     A     64  54.7   158.0  21.9     normal       76       95  0.80   \n27  ID28     A     70  60.0   160.0  23.4     normal       81      104  0.78   \n28  ID29     A     63  51.3   154.0  21.6     normal       76       89  0.85   \n29  ID30     A     66  50.0   153.0  21.4     normal       76       87  0.87   \n30  ID31     A     64  49.8   150.0  22.1     normal       72      106  0.68   \n31  ID32     A     69  55.2   156.0  22.7     normal       81       98  0.83   \n32  ID33     A     69  58.2   160.0  22.7     normal       78       90  0.87   \n33  ID34     S     64  51.6   156.5  21.1     normal       76       87  0.87   \n34  ID35     S     63  62.7   153.0  26.8  sobrepeso       90      103  0.87   \n35  ID36     S     72  75.6   165.0  27.8  sobrepeso       98      110  0.89   \n36  ID37     S     73  65.2   154.0  27.5  sobrepeso       96      110  0.87   \n37  ID38     S     68  61.8   152.0  26.7  sobrepeso       82       93  0.88   \n38  ID39     S     71  64.3   150.0  28.6  sobrepeso       78       89  0.88   \n39  ID40     S     72  59.2   153.0  25.3  sobrepeso       73       82  0.89   \n40  ID41     A     69  63.4   163.0  23.9     normal       93      120  0.78   \n41  ID42     S     68  66.0   160.0  25.8  sobrepeso       90      117  0.77   \n42  ID43     S     68  61.7   158.0  24.7     normal       90      116  0.78   \n43  ID44     S     73  68.2   155.0  28.4  sobrepeso      107      120  0.89   \n44  ID45     S     79  60.1   160.0  23.5     normal       92      110  0.84   \n\n   classe_rcq  \n0          MR  \n1          GR  \n2          GR  \n3          GR  \n4          MR  \n5          GR  \n6          GR  \n7          MR  \n8          MR  \n9          GR  \n10         MR  \n11         MR  \n12         MR  \n13         MR  \n14         GR  \n15         GR  \n16         PR  \n17         MR  \n18         GR  \n19         GR  \n20         MR  \n21         MR  \n22         MR  \n23         PR  \n24         PR  \n25         MR  \n26         MR  \n27         MR  \n28         MR  \n29         GR  \n30         PR  \n31         MR  \n32         GR  \n33         GR  \n34         GR  \n35         GR  \n36         GR  \n37         GR  \n38         GR  \n39         GR  \n40         MR  \n41         PR  \n42         MR  \n43         GR  \n44         MR  ",
      "text/html": "<div>\n<style scoped>\n    .dataframe tbody tr th:only-of-type {\n        vertical-align: middle;\n    }\n\n    .dataframe tbody tr th {\n        vertical-align: top;\n    }\n\n    .dataframe thead th {\n        text-align: right;\n    }\n</style>\n<table border=\"1\" class=\"dataframe\">\n  <thead>\n    <tr style=\"text-align: right;\">\n      <th></th>\n      <th>id</th>\n      <th>categ</th>\n      <th>idade</th>\n      <th>peso</th>\n      <th>altura</th>\n      <th>imc</th>\n      <th>classe_imc</th>\n      <th>cintura</th>\n      <th>quadril</th>\n      <th>rcq</th>\n      <th>classe_rcq</th>\n    </tr>\n  </thead>\n  <tbody>\n    <tr>\n      <th>0</th>\n      <td>ID1</td>\n      <td>A</td>\n      <td>61</td>\n      <td>58.2</td>\n      <td>154.0</td>\n      <td>24.5</td>\n      <td>normal</td>\n      <td>87</td>\n      <td>109</td>\n      <td>0.80</td>\n      <td>MR</td>\n    </tr>\n    <tr>\n      <th>1</th>\n      <td>ID2</td>\n      <td>S</td>\n      <td>69</td>\n      <td>63.0</td>\n      <td>152.0</td>\n      <td>27.3</td>\n      <td>sobrepeso</td>\n      <td>89</td>\n      <td>104</td>\n      <td>0.86</td>\n      <td>GR</td>\n    </tr>\n    <tr>\n      <th>2</th>\n      <td>ID3</td>\n      <td>S</td>\n      <td>61</td>\n      <td>70.1</td>\n      <td>158.0</td>\n      <td>28.1</td>\n      <td>sobrepeso</td>\n      <td>106</td>\n      <td>123</td>\n      <td>0.86</td>\n      <td>GR</td>\n    </tr>\n    <tr>\n      <th>3</th>\n      <td>ID4</td>\n      <td>S</td>\n      <td>71</td>\n      <td>73.2</td>\n      <td>156.0</td>\n      <td>30.1</td>\n      <td>sobrepeso</td>\n      <td>110</td>\n      <td>122</td>\n      <td>0.90</td>\n      <td>GR</td>\n    </tr>\n    <tr>\n      <th>4</th>\n      <td>ID5</td>\n      <td>A</td>\n      <td>63</td>\n      <td>58.6</td>\n      <td>152.0</td>\n      <td>25.4</td>\n      <td>sobrepeso</td>\n      <td>99</td>\n      <td>121</td>\n      <td>0.82</td>\n      <td>MR</td>\n    </tr>\n    <tr>\n      <th>5</th>\n      <td>ID6</td>\n      <td>S</td>\n      <td>71</td>\n      <td>77.0</td>\n      <td>160.0</td>\n      <td>30.1</td>\n      <td>sobrepeso</td>\n      <td>125</td>\n      <td>132</td>\n      <td>0.95</td>\n      <td>GR</td>\n    </tr>\n    <tr>\n      <th>6</th>\n      <td>ID7</td>\n      <td>S</td>\n      <td>72</td>\n      <td>76.2</td>\n      <td>165.0</td>\n      <td>28.0</td>\n      <td>sobrepeso</td>\n      <td>115</td>\n      <td>125</td>\n      <td>0.92</td>\n      <td>GR</td>\n    </tr>\n    <tr>\n      <th>7</th>\n      <td>ID8</td>\n      <td>S</td>\n      <td>68</td>\n      <td>59.8</td>\n      <td>160.0</td>\n      <td>23.4</td>\n      <td>normal</td>\n      <td>85</td>\n      <td>103</td>\n      <td>0.83</td>\n      <td>MR</td>\n    </tr>\n    <tr>\n      <th>8</th>\n      <td>ID9</td>\n      <td>A</td>\n      <td>66</td>\n      <td>64.3</td>\n      <td>155.0</td>\n      <td>26.8</td>\n      <td>sobrepeso</td>\n      <td>100</td>\n      <td>120</td>\n      <td>0.83</td>\n      <td>MR</td>\n    </tr>\n    <tr>\n      <th>9</th>\n      <td>ID10</td>\n      <td>S</td>\n      <td>69</td>\n      <td>52.1</td>\n      <td>151.0</td>\n      <td>22.8</td>\n      <td>normal</td>\n      <td>74</td>\n      <td>83</td>\n      <td>0.89</td>\n      <td>GR</td>\n    </tr>\n    <tr>\n      <th>10</th>\n      <td>ID11</td>\n      <td>S</td>\n      <td>72</td>\n      <td>62.0</td>\n      <td>156.0</td>\n      <td>22.5</td>\n      <td>sobrepeso</td>\n      <td>90</td>\n      <td>111</td>\n      <td>0.81</td>\n      <td>MR</td>\n    </tr>\n    <tr>\n      <th>11</th>\n      <td>ID12</td>\n      <td>S</td>\n      <td>67</td>\n      <td>52.1</td>\n      <td>151.0</td>\n      <td>22.8</td>\n      <td>normal</td>\n      <td>76</td>\n      <td>90</td>\n      <td>0.84</td>\n      <td>MR</td>\n    </tr>\n    <tr>\n      <th>12</th>\n      <td>ID13</td>\n      <td>S</td>\n      <td>63</td>\n      <td>58.0</td>\n      <td>157.0</td>\n      <td>23.5</td>\n      <td>normal</td>\n      <td>80</td>\n      <td>102</td>\n      <td>0.78</td>\n      <td>MR</td>\n    </tr>\n    <tr>\n      <th>13</th>\n      <td>ID14</td>\n      <td>S</td>\n      <td>66</td>\n      <td>55.0</td>\n      <td>154.0</td>\n      <td>23.2</td>\n      <td>normal</td>\n      <td>78</td>\n      <td>96</td>\n      <td>0.81</td>\n      <td>MR</td>\n    </tr>\n    <tr>\n      <th>14</th>\n      <td>ID15</td>\n      <td>S</td>\n      <td>63</td>\n      <td>50.1</td>\n      <td>157.0</td>\n      <td>20.3</td>\n      <td>normal</td>\n      <td>72</td>\n      <td>81</td>\n      <td>0.89</td>\n      <td>GR</td>\n    </tr>\n    <tr>\n      <th>15</th>\n      <td>ID16</td>\n      <td>A</td>\n      <td>63</td>\n      <td>57.9</td>\n      <td>160.0</td>\n      <td>22.6</td>\n      <td>normal</td>\n      <td>78</td>\n      <td>90</td>\n      <td>0.87</td>\n      <td>GR</td>\n    </tr>\n    <tr>\n      <th>16</th>\n      <td>ID17</td>\n      <td>A</td>\n      <td>60</td>\n      <td>58.2</td>\n      <td>156.0</td>\n      <td>23.9</td>\n      <td>normal</td>\n      <td>80</td>\n      <td>108</td>\n      <td>0.74</td>\n      <td>PR</td>\n    </tr>\n    <tr>\n      <th>17</th>\n      <td>ID18</td>\n      <td>A</td>\n      <td>67</td>\n      <td>56.2</td>\n      <td>152.0</td>\n      <td>24.3</td>\n      <td>normal</td>\n      <td>76</td>\n      <td>95</td>\n      <td>0.80</td>\n      <td>MR</td>\n    </tr>\n    <tr>\n      <th>18</th>\n      <td>ID19</td>\n      <td>A</td>\n      <td>71</td>\n      <td>68.6</td>\n      <td>159.0</td>\n      <td>27.1</td>\n      <td>sobrepeso</td>\n      <td>106</td>\n      <td>117</td>\n      <td>0.91</td>\n      <td>GR</td>\n    </tr>\n    <tr>\n      <th>19</th>\n      <td>ID20</td>\n      <td>A</td>\n      <td>63</td>\n      <td>51.0</td>\n      <td>150.0</td>\n      <td>22.7</td>\n      <td>normal</td>\n      <td>71</td>\n      <td>83</td>\n      <td>0.86</td>\n      <td>GR</td>\n    </tr>\n    <tr>\n      <th>20</th>\n      <td>ID21</td>\n      <td>A</td>\n      <td>60</td>\n      <td>53.4</td>\n      <td>150.0</td>\n      <td>23.7</td>\n      <td>normal</td>\n      <td>76</td>\n      <td>89</td>\n      <td>0.85</td>\n      <td>MR</td>\n    </tr>\n    <tr>\n      <th>21</th>\n      <td>ID22</td>\n      <td>A</td>\n      <td>69</td>\n      <td>61.3</td>\n      <td>154.0</td>\n      <td>25.8</td>\n      <td>sobrepeso</td>\n      <td>89</td>\n      <td>106</td>\n      <td>0.84</td>\n      <td>MR</td>\n    </tr>\n    <tr>\n      <th>22</th>\n      <td>ID23</td>\n      <td>A</td>\n      <td>64</td>\n      <td>53.2</td>\n      <td>158.0</td>\n      <td>21.3</td>\n      <td>normal</td>\n      <td>73</td>\n      <td>86</td>\n      <td>0.85</td>\n      <td>MR</td>\n    </tr>\n    <tr>\n      <th>23</th>\n      <td>ID24</td>\n      <td>A</td>\n      <td>63</td>\n      <td>54.6</td>\n      <td>150.0</td>\n      <td>24.3</td>\n      <td>normal</td>\n      <td>80</td>\n      <td>108</td>\n      <td>0.74</td>\n      <td>PR</td>\n    </tr>\n    <tr>\n      <th>24</th>\n      <td>ID25</td>\n      <td>A</td>\n      <td>66</td>\n      <td>56.2</td>\n      <td>152.0</td>\n      <td>24.3</td>\n      <td>normal</td>\n      <td>84</td>\n      <td>110</td>\n      <td>0.76</td>\n      <td>PR</td>\n    </tr>\n    <tr>\n      <th>25</th>\n      <td>ID26</td>\n      <td>A</td>\n      <td>71</td>\n      <td>60.3</td>\n      <td>156.0</td>\n      <td>24.8</td>\n      <td>normal</td>\n      <td>82</td>\n      <td>99</td>\n      <td>0.83</td>\n      <td>MR</td>\n    </tr>\n    <tr>\n      <th>26</th>\n      <td>ID27</td>\n      <td>A</td>\n      <td>64</td>\n      <td>54.7</td>\n      <td>158.0</td>\n      <td>21.9</td>\n      <td>normal</td>\n      <td>76</td>\n      <td>95</td>\n      <td>0.80</td>\n      <td>MR</td>\n    </tr>\n    <tr>\n      <th>27</th>\n      <td>ID28</td>\n      <td>A</td>\n      <td>70</td>\n      <td>60.0</td>\n      <td>160.0</td>\n      <td>23.4</td>\n      <td>normal</td>\n      <td>81</td>\n      <td>104</td>\n      <td>0.78</td>\n      <td>MR</td>\n    </tr>\n    <tr>\n      <th>28</th>\n      <td>ID29</td>\n      <td>A</td>\n      <td>63</td>\n      <td>51.3</td>\n      <td>154.0</td>\n      <td>21.6</td>\n      <td>normal</td>\n      <td>76</td>\n      <td>89</td>\n      <td>0.85</td>\n      <td>MR</td>\n    </tr>\n    <tr>\n      <th>29</th>\n      <td>ID30</td>\n      <td>A</td>\n      <td>66</td>\n      <td>50.0</td>\n      <td>153.0</td>\n      <td>21.4</td>\n      <td>normal</td>\n      <td>76</td>\n      <td>87</td>\n      <td>0.87</td>\n      <td>GR</td>\n    </tr>\n    <tr>\n      <th>30</th>\n      <td>ID31</td>\n      <td>A</td>\n      <td>64</td>\n      <td>49.8</td>\n      <td>150.0</td>\n      <td>22.1</td>\n      <td>normal</td>\n      <td>72</td>\n      <td>106</td>\n      <td>0.68</td>\n      <td>PR</td>\n    </tr>\n    <tr>\n      <th>31</th>\n      <td>ID32</td>\n      <td>A</td>\n      <td>69</td>\n      <td>55.2</td>\n      <td>156.0</td>\n      <td>22.7</td>\n      <td>normal</td>\n      <td>81</td>\n      <td>98</td>\n      <td>0.83</td>\n      <td>MR</td>\n    </tr>\n    <tr>\n      <th>32</th>\n      <td>ID33</td>\n      <td>A</td>\n      <td>69</td>\n      <td>58.2</td>\n      <td>160.0</td>\n      <td>22.7</td>\n      <td>normal</td>\n      <td>78</td>\n      <td>90</td>\n      <td>0.87</td>\n      <td>GR</td>\n    </tr>\n    <tr>\n      <th>33</th>\n      <td>ID34</td>\n      <td>S</td>\n      <td>64</td>\n      <td>51.6</td>\n      <td>156.5</td>\n      <td>21.1</td>\n      <td>normal</td>\n      <td>76</td>\n      <td>87</td>\n      <td>0.87</td>\n      <td>GR</td>\n    </tr>\n    <tr>\n      <th>34</th>\n      <td>ID35</td>\n      <td>S</td>\n      <td>63</td>\n      <td>62.7</td>\n      <td>153.0</td>\n      <td>26.8</td>\n      <td>sobrepeso</td>\n      <td>90</td>\n      <td>103</td>\n      <td>0.87</td>\n      <td>GR</td>\n    </tr>\n    <tr>\n      <th>35</th>\n      <td>ID36</td>\n      <td>S</td>\n      <td>72</td>\n      <td>75.6</td>\n      <td>165.0</td>\n      <td>27.8</td>\n      <td>sobrepeso</td>\n      <td>98</td>\n      <td>110</td>\n      <td>0.89</td>\n      <td>GR</td>\n    </tr>\n    <tr>\n      <th>36</th>\n      <td>ID37</td>\n      <td>S</td>\n      <td>73</td>\n      <td>65.2</td>\n      <td>154.0</td>\n      <td>27.5</td>\n      <td>sobrepeso</td>\n      <td>96</td>\n      <td>110</td>\n      <td>0.87</td>\n      <td>GR</td>\n    </tr>\n    <tr>\n      <th>37</th>\n      <td>ID38</td>\n      <td>S</td>\n      <td>68</td>\n      <td>61.8</td>\n      <td>152.0</td>\n      <td>26.7</td>\n      <td>sobrepeso</td>\n      <td>82</td>\n      <td>93</td>\n      <td>0.88</td>\n      <td>GR</td>\n    </tr>\n    <tr>\n      <th>38</th>\n      <td>ID39</td>\n      <td>S</td>\n      <td>71</td>\n      <td>64.3</td>\n      <td>150.0</td>\n      <td>28.6</td>\n      <td>sobrepeso</td>\n      <td>78</td>\n      <td>89</td>\n      <td>0.88</td>\n      <td>GR</td>\n    </tr>\n    <tr>\n      <th>39</th>\n      <td>ID40</td>\n      <td>S</td>\n      <td>72</td>\n      <td>59.2</td>\n      <td>153.0</td>\n      <td>25.3</td>\n      <td>sobrepeso</td>\n      <td>73</td>\n      <td>82</td>\n      <td>0.89</td>\n      <td>GR</td>\n    </tr>\n    <tr>\n      <th>40</th>\n      <td>ID41</td>\n      <td>A</td>\n      <td>69</td>\n      <td>63.4</td>\n      <td>163.0</td>\n      <td>23.9</td>\n      <td>normal</td>\n      <td>93</td>\n      <td>120</td>\n      <td>0.78</td>\n      <td>MR</td>\n    </tr>\n    <tr>\n      <th>41</th>\n      <td>ID42</td>\n      <td>S</td>\n      <td>68</td>\n      <td>66.0</td>\n      <td>160.0</td>\n      <td>25.8</td>\n      <td>sobrepeso</td>\n      <td>90</td>\n      <td>117</td>\n      <td>0.77</td>\n      <td>PR</td>\n    </tr>\n    <tr>\n      <th>42</th>\n      <td>ID43</td>\n      <td>S</td>\n      <td>68</td>\n      <td>61.7</td>\n      <td>158.0</td>\n      <td>24.7</td>\n      <td>normal</td>\n      <td>90</td>\n      <td>116</td>\n      <td>0.78</td>\n      <td>MR</td>\n    </tr>\n    <tr>\n      <th>43</th>\n      <td>ID44</td>\n      <td>S</td>\n      <td>73</td>\n      <td>68.2</td>\n      <td>155.0</td>\n      <td>28.4</td>\n      <td>sobrepeso</td>\n      <td>107</td>\n      <td>120</td>\n      <td>0.89</td>\n      <td>GR</td>\n    </tr>\n    <tr>\n      <th>44</th>\n      <td>ID45</td>\n      <td>S</td>\n      <td>79</td>\n      <td>60.1</td>\n      <td>160.0</td>\n      <td>23.5</td>\n      <td>normal</td>\n      <td>92</td>\n      <td>110</td>\n      <td>0.84</td>\n      <td>MR</td>\n    </tr>\n  </tbody>\n</table>\n</div>"
     },
     "execution_count": 11,
     "metadata": {},
     "output_type": "execute_result"
    }
   ],
   "source": [
    "import numpy as np\n",
    "import pandas as pd\n",
    "\n",
    "# Tabela 1.2\n",
    "\n",
    "df2 = pd.read_csv('../datasets/tabela1_2.csv')\n",
    "#df1.columns = ['ID', 'BAIRO', 'TIPO', 'Nº de Quartos', 'Preço']\n",
    "df2"
   ]
  },
  {
   "cell_type": "code",
   "execution_count": 12,
   "id": "9dc636f8-5496-4535-899c-07d3f438693a",
   "metadata": {
    "ExecuteTime": {
     "end_time": "2023-10-02T01:29:35.054432400Z",
     "start_time": "2023-10-02T01:29:34.944432700Z"
    }
   },
   "outputs": [],
   "source": [
    "import Funcoes.Conversao as Conv"
   ]
  },
  {
   "cell_type": "code",
   "execution_count": 13,
   "id": "460dbccc19bd40ee",
   "metadata": {
    "collapsed": false,
    "ExecuteTime": {
     "end_time": "2023-10-02T01:29:35.054432400Z",
     "start_time": "2023-10-02T01:29:34.954433900Z"
    }
   },
   "outputs": [
    {
     "name": "stdout",
     "output_type": "stream",
     "text": [
      "A média é 67.200\n"
     ]
    }
   ],
   "source": [
    "# Media para a variavel idade\n",
    "Conv.media(df2['idade'])"
   ]
  },
  {
   "cell_type": "code",
   "execution_count": 14,
   "id": "a60c1c74-25d6-44c7-a7a0-feac0bf1cdfa",
   "metadata": {
    "ExecuteTime": {
     "end_time": "2023-10-02T01:29:35.054432400Z",
     "start_time": "2023-10-02T01:29:34.994432400Z"
    }
   },
   "outputs": [
    {
     "name": "stdout",
     "output_type": "stream",
     "text": [
      "A Mediana é 68.000\n"
     ]
    }
   ],
   "source": [
    "# Mediana para variavel idade\n",
    "Conv.mediana(df2['idade'])"
   ]
  },
  {
   "cell_type": "code",
   "execution_count": 15,
   "outputs": [
    {
     "name": "stdout",
     "output_type": "stream",
     "text": [
      "A moda é 63.000\n"
     ]
    }
   ],
   "source": [
    "Conv.moda(df2['idade'])"
   ],
   "metadata": {
    "collapsed": false,
    "ExecuteTime": {
     "end_time": "2023-10-02T01:29:35.274432100Z",
     "start_time": "2023-10-02T01:29:35.004438Z"
    }
   },
   "id": "9b8eed0c71dd39c5"
  },
  {
   "cell_type": "code",
   "execution_count": 16,
   "outputs": [
    {
     "name": "stdout",
     "output_type": "stream",
     "text": [
      "A média é 86.356\n",
      "A Mediana é 82.000\n",
      "A moda é 76.000\n",
      "(None, None, None)\n"
     ]
    }
   ],
   "source": [
    "# Variavel Cintura\n",
    "cintura_stats = Conv.media(df2['cintura']), Conv.mediana(df2['cintura']), Conv.moda(df2['cintura'])\n",
    "print(cintura_stats)"
   ],
   "metadata": {
    "collapsed": false,
    "ExecuteTime": {
     "end_time": "2023-10-02T01:29:35.294432600Z",
     "start_time": "2023-10-02T01:29:35.024436Z"
    }
   },
   "id": "e185d95ed7fa3bcc"
  },
  {
   "cell_type": "code",
   "execution_count": 17,
   "outputs": [
    {
     "name": "stdout",
     "output_type": "stream",
     "text": [
      "A média é 103.089\n",
      "A Mediana é 104.000\n",
      "A moda é 110.000\n",
      "(None, None, None)\n"
     ]
    }
   ],
   "source": [
    "# Variavel Quadril\n",
    "quadril_stats = Conv.media(df2['quadril']), Conv.mediana(df2['quadril']), Conv.moda(df2['quadril'])\n",
    "print(quadril_stats)"
   ],
   "metadata": {
    "collapsed": false,
    "ExecuteTime": {
     "end_time": "2023-10-02T01:29:35.324430400Z",
     "start_time": "2023-10-02T01:29:35.054432400Z"
    }
   },
   "id": "fa8469c6a364e920"
  },
  {
   "cell_type": "code",
   "execution_count": 18,
   "outputs": [
    {
     "name": "stdout",
     "output_type": "stream",
     "text": [
      "A média é 0.838\n",
      "A Mediana é 0.850\n",
      "A moda é 0.870\n",
      "(None, None, None)\n"
     ]
    }
   ],
   "source": [
    "# Variavel Quadril\n",
    "rcq_stats = Conv.media(df2['rcq']), Conv.mediana(df2['rcq']), Conv.moda(df2['rcq'])\n",
    "print(rcq_stats)"
   ],
   "metadata": {
    "collapsed": false,
    "ExecuteTime": {
     "end_time": "2023-10-02T01:29:35.354432900Z",
     "start_time": "2023-10-02T01:29:35.074433700Z"
    }
   },
   "id": "49666dfb3553ff77"
  },
  {
   "cell_type": "code",
   "execution_count": 30,
   "outputs": [
    {
     "name": "stdout",
     "output_type": "stream",
     "text": [
      "A Variancia é 17.482\n",
      "O Desvio Padrão é 4.181\n",
      "O CV é 0.062\n"
     ]
    },
    {
     "data": {
      "text/plain": "(None, None, None)"
     },
     "execution_count": 30,
     "metadata": {},
     "output_type": "execute_result"
    }
   ],
   "source": [
    "Conv.variancia(df2['idade']), Conv.desvio_padrao(df2['idade']), Conv.coeficinete_variacao(df2['idade'])"
   ],
   "metadata": {
    "collapsed": false,
    "ExecuteTime": {
     "end_time": "2023-10-02T01:47:32.943724900Z",
     "start_time": "2023-10-02T01:47:32.919813100Z"
    }
   },
   "id": "3056c4e2edf849f3"
  },
  {
   "cell_type": "code",
   "execution_count": 20,
   "outputs": [
    {
     "name": "stdout",
     "output_type": "stream",
     "text": [
      "A Variancia é 36.000\n",
      "A Variancia é 18.667\n",
      "A Variancia é 4.667\n",
      "A Variancia é 0.000\n"
     ]
    },
    {
     "data": {
      "text/plain": "(None, None, None, None)"
     },
     "execution_count": 20,
     "metadata": {},
     "output_type": "execute_result"
    }
   ],
   "source": [
    "Conv.variancia([4, 4, 4, 10, 16, 16, 16]), Conv.variancia([4, 6, 8, 10, 12, 14, 16]), Conv.variancia(\n",
    "    [7, 8, 9, 10, 11, 12, 13]), Conv.variancia(7 * [10])"
   ],
   "metadata": {
    "collapsed": false,
    "ExecuteTime": {
     "end_time": "2023-10-02T01:29:35.464431800Z",
     "start_time": "2023-10-02T01:29:35.134431200Z"
    }
   },
   "id": "484be43f76b1f3f8"
  },
  {
   "cell_type": "code",
   "execution_count": 21,
   "outputs": [],
   "source": [
    "#   Desvivo Padrão\n",
    "#    Raiz quadrada da Variância\n",
    "def desvio_padrao(dados):\n",
    "    soma = 0\n",
    "    n = len(dados)\n",
    "    media = np.sum(dados) / n\n",
    "    for i in dados:\n",
    "        soma += (i - media) ** 2\n",
    "    var = soma / (n - 1)\n",
    "    desv_pad = var ** .5\n",
    "    print(f'O Desvio Padrão é {desv_pad:.3f}')"
   ],
   "metadata": {
    "collapsed": false,
    "ExecuteTime": {
     "end_time": "2023-10-02T01:29:35.464431800Z",
     "start_time": "2023-10-02T01:29:35.184435Z"
    }
   },
   "id": "6a285200c862caa2"
  },
  {
   "cell_type": "code",
   "execution_count": 22,
   "outputs": [
    {
     "name": "stdout",
     "output_type": "stream",
     "text": [
      "O Desvio Padrão é 6.000\n",
      "O Desvio Padrão é 4.320\n",
      "O Desvio Padrão é 2.160\n",
      "O Desvio Padrão é 0.000\n"
     ]
    },
    {
     "data": {
      "text/plain": "(None, None, None, None)"
     },
     "execution_count": 22,
     "metadata": {},
     "output_type": "execute_result"
    }
   ],
   "source": [
    "desvio_padrao([4, 4, 4, 10, 16, 16, 16]), desvio_padrao([4, 6, 8, 10, 12, 14, 16]), desvio_padrao(\n",
    "    [7, 8, 9, 10, 11, 12, 13]), desvio_padrao(7 * [10])"
   ],
   "metadata": {
    "collapsed": false,
    "ExecuteTime": {
     "end_time": "2023-10-02T01:29:35.464431800Z",
     "start_time": "2023-10-02T01:29:35.214432600Z"
    }
   },
   "id": "e9b5f0b4fb0ede59"
  },
  {
   "cell_type": "code",
   "execution_count": 23,
   "outputs": [],
   "source": [
    "# Coeficiente de Variação\n",
    "#    (Desvio Padrão) / Media\n",
    "def coeficinete_variacao(dados):\n",
    "    soma = 0\n",
    "    n = len(dados)\n",
    "    media = np.sum(dados) / n\n",
    "    for i in dados:\n",
    "        soma += (i - media) ** 2\n",
    "    var = soma / (n - 1)\n",
    "    desv_pad = var ** .5\n",
    "    cv = desv_pad / media\n",
    "    print(f'O CV é {cv:.3f}')"
   ],
   "metadata": {
    "collapsed": false,
    "ExecuteTime": {
     "end_time": "2023-10-02T01:29:35.464431800Z",
     "start_time": "2023-10-02T01:29:35.244435200Z"
    }
   },
   "id": "aabda22a289d6326"
  },
  {
   "cell_type": "code",
   "execution_count": 24,
   "outputs": [
    {
     "name": "stdout",
     "output_type": "stream",
     "text": [
      "O CV é 0.600\n",
      "O CV é 0.432\n",
      "O CV é 0.216\n",
      "O CV é 0.000\n"
     ]
    },
    {
     "data": {
      "text/plain": "(None, None, None, None)"
     },
     "execution_count": 24,
     "metadata": {},
     "output_type": "execute_result"
    }
   ],
   "source": [
    "coeficinete_variacao([4, 4, 4, 10, 16, 16, 16]), coeficinete_variacao([4, 6, 8, 10, 12, 14, 16]), coeficinete_variacao(\n",
    "    [7, 8, 9, 10, 11, 12, 13]), coeficinete_variacao(7 * [10])"
   ],
   "metadata": {
    "collapsed": false,
    "ExecuteTime": {
     "end_time": "2023-10-02T01:29:35.674430700Z",
     "start_time": "2023-10-02T01:29:35.274432100Z"
    }
   },
   "id": "c0a589bd60ede195"
  },
  {
   "cell_type": "code",
   "execution_count": 25,
   "outputs": [
    {
     "name": "stdout",
     "output_type": "stream",
     "text": [
      "O CV é 0.013\n",
      "O CV é 0.229\n"
     ]
    },
    {
     "data": {
      "text/plain": "(None, None)"
     },
     "execution_count": 25,
     "metadata": {},
     "output_type": "execute_result"
    }
   ],
   "source": [
    "coeficinete_variacao([52.3,52.5,53,53.5,54]), coeficinete_variacao([2.3,2.5,3,3.5,4])"
   ],
   "metadata": {
    "collapsed": false,
    "ExecuteTime": {
     "end_time": "2023-10-02T01:29:35.774430900Z",
     "start_time": "2023-10-02T01:29:35.294432600Z"
    }
   },
   "id": "a08c8f7a0e98abb6"
  },
  {
   "cell_type": "code",
   "execution_count": 28,
   "outputs": [
    {
     "name": "stdout",
     "output_type": "stream",
     "text": [
      "A média é 53.060\n",
      "A Variancia é 0.493\n",
      "O Desvio Padrão é 0.702\n",
      "O CV é 0.013\n"
     ]
    },
    {
     "data": {
      "text/plain": "(None, None, None, None)"
     },
     "execution_count": 28,
     "metadata": {},
     "output_type": "execute_result"
    }
   ],
   "source": [
    "dados_mae = [52.3,52.5,53,53.5,54]\n",
    "Conv.media(dados_mae), Conv.variancia(dados_mae), desvio_padrao(dados_mae), coeficinete_variacao(dados_mae)"
   ],
   "metadata": {
    "collapsed": false,
    "ExecuteTime": {
     "end_time": "2023-10-02T01:31:06.105543300Z",
     "start_time": "2023-10-02T01:31:06.066892700Z"
    }
   },
   "id": "6e760c461e3e15fb"
  },
  {
   "cell_type": "code",
   "execution_count": 29,
   "outputs": [
    {
     "name": "stdout",
     "output_type": "stream",
     "text": [
      "A média é 3.060\n",
      "A Variancia é 0.493\n",
      "O Desvio Padrão é 0.702\n",
      "O CV é 0.229\n"
     ]
    },
    {
     "data": {
      "text/plain": "(None, None, None, None)"
     },
     "execution_count": 29,
     "metadata": {},
     "output_type": "execute_result"
    }
   ],
   "source": [
    "dados_bebe = [2.3,2.5,3,3.5,4]\n",
    "Conv.media(dados_bebe), Conv.variancia(dados_bebe), desvio_padrao(dados_bebe), coeficinete_variacao(dados_bebe)"
   ],
   "metadata": {
    "collapsed": false,
    "ExecuteTime": {
     "end_time": "2023-10-02T01:31:08.225134400Z",
     "start_time": "2023-10-02T01:31:08.212104100Z"
    }
   },
   "id": "5384ea7ee7b16bf2"
  },
  {
   "cell_type": "code",
   "execution_count": 33,
   "outputs": [
    {
     "data": {
      "text/plain": "(11.5, 34.5)"
     },
     "execution_count": 33,
     "metadata": {},
     "output_type": "execute_result"
    }
   ],
   "source": [
    "( 45 + 1)*.25, ( 45 + 1)*.75"
   ],
   "metadata": {
    "collapsed": false,
    "ExecuteTime": {
     "end_time": "2023-10-02T01:55:33.795232700Z",
     "start_time": "2023-10-02T01:55:33.772533300Z"
    }
   },
   "id": "cd8a4d3fa38a0791"
  },
  {
   "cell_type": "code",
   "execution_count": null,
   "outputs": [],
   "source": [],
   "metadata": {
    "collapsed": false
   },
   "id": "83c6039672c9c205"
  }
 ],
 "metadata": {
  "kernelspec": {
   "display_name": "Python 3 (ipykernel)",
   "language": "python",
   "name": "python3"
  },
  "language_info": {
   "codemirror_mode": {
    "name": "ipython",
    "version": 3
   },
   "file_extension": ".py",
   "mimetype": "text/x-python",
   "name": "python",
   "nbconvert_exporter": "python",
   "pygments_lexer": "ipython3",
   "version": "3.11.5"
  },
  "widgets": {
   "application/vnd.jupyter.widget-state+json": {
    "state": {},
    "version_major": 2,
    "version_minor": 0
   }
  }
 },
 "nbformat": 4,
 "nbformat_minor": 5
}
