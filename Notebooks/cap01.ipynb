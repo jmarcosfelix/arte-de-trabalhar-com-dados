{
 "cells": [
  {
   "cell_type": "code",
   "execution_count": 1,
   "id": "initial_id",
   "metadata": {
    "collapsed": true,
    "ExecuteTime": {
     "end_time": "2023-09-27T02:00:23.166349100Z",
     "start_time": "2023-09-27T02:00:20.189760300Z"
    }
   },
   "outputs": [],
   "source": [
    "import pandas as pd"
   ]
  },
  {
   "cell_type": "code",
   "execution_count": 7,
   "outputs": [
    {
     "data": {
      "text/plain": "    ID        BAIRO   TIPO Nº de Quartos  Preço\n0    1        Barra  Apto.             2    165\n1    2        Barra  Apto.             3    240\n2    3        Barra  Cobt.           NaN    158\n3    4        Barra   Sala           NaN    150\n4    5     Botafogo  Apto.             2     59\n5    6       Catete  Apto.             1     54\n6    7       Centro   Sala           NaN     35\n7    8   Copacabana  Apto.             2     83\n8    9   Copacabana  Apto.             3    180\n9   10   Copacabana  Apto.            4+     85\n10  11     Flamengo  Apto.             1     58\n11  12     Flamengo  Cobt.           NaN    120\n12  13        Gávea  Apto.            4+    250\n13  14      Ipanema  Apto.             3    130\n14  15  Jacarepaguá  Apto.             3     90\n15  16        Lagoa  Apto.             2    130\n16  17  Laranjeiras  Apto.             2     68\n17  18  Laranjeiras  Apto.            4+    360\n18  19       Leblon  Apto.             3    300\n19  20       Leblon  Apto.            4+    600\n20  21     Maracanã  Apto.             3    137\n21  22      Recreio  Cobt.           NaN    240\n22  23  São Conrado   Casa            4+    650\n23  24       Tijuca  Apto.             2     49\n24  25       Tijuca  Apto.             2     95\n25  26       Tijuca  Apto.            4+    170\n26  27  Vila Isabel  Apto.             2     57",
      "text/html": "<div>\n<style scoped>\n    .dataframe tbody tr th:only-of-type {\n        vertical-align: middle;\n    }\n\n    .dataframe tbody tr th {\n        vertical-align: top;\n    }\n\n    .dataframe thead th {\n        text-align: right;\n    }\n</style>\n<table border=\"1\" class=\"dataframe\">\n  <thead>\n    <tr style=\"text-align: right;\">\n      <th></th>\n      <th>ID</th>\n      <th>BAIRO</th>\n      <th>TIPO</th>\n      <th>Nº de Quartos</th>\n      <th>Preço</th>\n    </tr>\n  </thead>\n  <tbody>\n    <tr>\n      <th>0</th>\n      <td>1</td>\n      <td>Barra</td>\n      <td>Apto.</td>\n      <td>2</td>\n      <td>165</td>\n    </tr>\n    <tr>\n      <th>1</th>\n      <td>2</td>\n      <td>Barra</td>\n      <td>Apto.</td>\n      <td>3</td>\n      <td>240</td>\n    </tr>\n    <tr>\n      <th>2</th>\n      <td>3</td>\n      <td>Barra</td>\n      <td>Cobt.</td>\n      <td>NaN</td>\n      <td>158</td>\n    </tr>\n    <tr>\n      <th>3</th>\n      <td>4</td>\n      <td>Barra</td>\n      <td>Sala</td>\n      <td>NaN</td>\n      <td>150</td>\n    </tr>\n    <tr>\n      <th>4</th>\n      <td>5</td>\n      <td>Botafogo</td>\n      <td>Apto.</td>\n      <td>2</td>\n      <td>59</td>\n    </tr>\n    <tr>\n      <th>5</th>\n      <td>6</td>\n      <td>Catete</td>\n      <td>Apto.</td>\n      <td>1</td>\n      <td>54</td>\n    </tr>\n    <tr>\n      <th>6</th>\n      <td>7</td>\n      <td>Centro</td>\n      <td>Sala</td>\n      <td>NaN</td>\n      <td>35</td>\n    </tr>\n    <tr>\n      <th>7</th>\n      <td>8</td>\n      <td>Copacabana</td>\n      <td>Apto.</td>\n      <td>2</td>\n      <td>83</td>\n    </tr>\n    <tr>\n      <th>8</th>\n      <td>9</td>\n      <td>Copacabana</td>\n      <td>Apto.</td>\n      <td>3</td>\n      <td>180</td>\n    </tr>\n    <tr>\n      <th>9</th>\n      <td>10</td>\n      <td>Copacabana</td>\n      <td>Apto.</td>\n      <td>4+</td>\n      <td>85</td>\n    </tr>\n    <tr>\n      <th>10</th>\n      <td>11</td>\n      <td>Flamengo</td>\n      <td>Apto.</td>\n      <td>1</td>\n      <td>58</td>\n    </tr>\n    <tr>\n      <th>11</th>\n      <td>12</td>\n      <td>Flamengo</td>\n      <td>Cobt.</td>\n      <td>NaN</td>\n      <td>120</td>\n    </tr>\n    <tr>\n      <th>12</th>\n      <td>13</td>\n      <td>Gávea</td>\n      <td>Apto.</td>\n      <td>4+</td>\n      <td>250</td>\n    </tr>\n    <tr>\n      <th>13</th>\n      <td>14</td>\n      <td>Ipanema</td>\n      <td>Apto.</td>\n      <td>3</td>\n      <td>130</td>\n    </tr>\n    <tr>\n      <th>14</th>\n      <td>15</td>\n      <td>Jacarepaguá</td>\n      <td>Apto.</td>\n      <td>3</td>\n      <td>90</td>\n    </tr>\n    <tr>\n      <th>15</th>\n      <td>16</td>\n      <td>Lagoa</td>\n      <td>Apto.</td>\n      <td>2</td>\n      <td>130</td>\n    </tr>\n    <tr>\n      <th>16</th>\n      <td>17</td>\n      <td>Laranjeiras</td>\n      <td>Apto.</td>\n      <td>2</td>\n      <td>68</td>\n    </tr>\n    <tr>\n      <th>17</th>\n      <td>18</td>\n      <td>Laranjeiras</td>\n      <td>Apto.</td>\n      <td>4+</td>\n      <td>360</td>\n    </tr>\n    <tr>\n      <th>18</th>\n      <td>19</td>\n      <td>Leblon</td>\n      <td>Apto.</td>\n      <td>3</td>\n      <td>300</td>\n    </tr>\n    <tr>\n      <th>19</th>\n      <td>20</td>\n      <td>Leblon</td>\n      <td>Apto.</td>\n      <td>4+</td>\n      <td>600</td>\n    </tr>\n    <tr>\n      <th>20</th>\n      <td>21</td>\n      <td>Maracanã</td>\n      <td>Apto.</td>\n      <td>3</td>\n      <td>137</td>\n    </tr>\n    <tr>\n      <th>21</th>\n      <td>22</td>\n      <td>Recreio</td>\n      <td>Cobt.</td>\n      <td>NaN</td>\n      <td>240</td>\n    </tr>\n    <tr>\n      <th>22</th>\n      <td>23</td>\n      <td>São Conrado</td>\n      <td>Casa</td>\n      <td>4+</td>\n      <td>650</td>\n    </tr>\n    <tr>\n      <th>23</th>\n      <td>24</td>\n      <td>Tijuca</td>\n      <td>Apto.</td>\n      <td>2</td>\n      <td>49</td>\n    </tr>\n    <tr>\n      <th>24</th>\n      <td>25</td>\n      <td>Tijuca</td>\n      <td>Apto.</td>\n      <td>2</td>\n      <td>95</td>\n    </tr>\n    <tr>\n      <th>25</th>\n      <td>26</td>\n      <td>Tijuca</td>\n      <td>Apto.</td>\n      <td>4+</td>\n      <td>170</td>\n    </tr>\n    <tr>\n      <th>26</th>\n      <td>27</td>\n      <td>Vila Isabel</td>\n      <td>Apto.</td>\n      <td>2</td>\n      <td>57</td>\n    </tr>\n  </tbody>\n</table>\n</div>"
     },
     "execution_count": 7,
     "metadata": {},
     "output_type": "execute_result"
    }
   ],
   "source": [
    "# Tabela 1.1\n",
    "\n",
    "df1 = pd.read_csv('../datasets/tabele1_1.csv')\n",
    "df1.columns = ['ID', 'BAIRO', 'TIPO', 'Nº de Quartos', 'Preço']\n",
    "df1"
   ],
   "metadata": {
    "collapsed": false,
    "ExecuteTime": {
     "end_time": "2023-09-27T02:09:37.277662600Z",
     "start_time": "2023-09-27T02:09:37.241674800Z"
    }
   },
   "id": "12709028033beb52"
  },
  {
   "cell_type": "code",
   "execution_count": 13,
   "outputs": [
    {
     "name": "stdout",
     "output_type": "stream",
     "text": [
      "Variveis Qualitativas Nominal: BAIRRO e TIPO\n"
     ]
    }
   ],
   "source": [
    "print('Variveis Qualitativas Nominal: %s e %s' % ('BAIRRO', 'TIPO'))"
   ],
   "metadata": {
    "collapsed": false,
    "ExecuteTime": {
     "end_time": "2023-09-27T02:18:44.238032100Z",
     "start_time": "2023-09-27T02:18:44.218023300Z"
    }
   },
   "id": "bd6afa9acc50d5f3"
  },
  {
   "cell_type": "code",
   "execution_count": 17,
   "outputs": [
    {
     "name": "stdout",
     "output_type": "stream",
     "text": [
      "Varivel Qualitativa Ordinal: \"Nº de Quartos\"\n"
     ]
    }
   ],
   "source": [
    "print('Varivel Qualitativa Ordinal: %s' % '\"Nº de Quartos\"')"
   ],
   "metadata": {
    "collapsed": false,
    "ExecuteTime": {
     "end_time": "2023-09-27T02:20:01.782246500Z",
     "start_time": "2023-09-27T02:20:01.764161500Z"
    }
   },
   "id": "da371312a40a63c0"
  },
  {
   "cell_type": "code",
   "execution_count": 18,
   "outputs": [
    {
     "name": "stdout",
     "output_type": "stream",
     "text": [
      "Variavel Quantitativa Continua: Preço\n"
     ]
    }
   ],
   "source": [
    "print('Variavel Quantitativa Continua: %s' %'Preço')"
   ],
   "metadata": {
    "collapsed": false,
    "ExecuteTime": {
     "end_time": "2023-09-27T02:20:02.656815600Z",
     "start_time": "2023-09-27T02:20:02.656815600Z"
    }
   },
   "id": "b8e29ba3490a8456"
  },
  {
   "cell_type": "code",
   "execution_count": null,
   "outputs": [],
   "source": [],
   "metadata": {
    "collapsed": false
   },
   "id": "e44f85d18e9014a4"
  }
 ],
 "metadata": {
  "kernelspec": {
   "display_name": "Python 3",
   "language": "python",
   "name": "python3"
  },
  "language_info": {
   "codemirror_mode": {
    "name": "ipython",
    "version": 2
   },
   "file_extension": ".py",
   "mimetype": "text/x-python",
   "name": "python",
   "nbconvert_exporter": "python",
   "pygments_lexer": "ipython2",
   "version": "2.7.6"
  }
 },
 "nbformat": 4,
 "nbformat_minor": 5
}
