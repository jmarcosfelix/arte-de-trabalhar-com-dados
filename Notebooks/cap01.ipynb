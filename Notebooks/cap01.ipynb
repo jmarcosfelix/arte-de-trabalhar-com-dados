{
 "cells": [
  {
   "cell_type": "code",
   "execution_count": 1,
   "id": "initial_id",
   "metadata": {
    "collapsed": true,
    "ExecuteTime": {
     "end_time": "2023-09-28T00:59:39.956776200Z",
     "start_time": "2023-09-28T00:59:38.432716800Z"
    }
   },
   "outputs": [],
   "source": [
    "import pandas as pd"
   ]
  },
  {
   "cell_type": "code",
   "execution_count": 2,
   "outputs": [
    {
     "data": {
      "text/plain": "    ID        BAIRO   TIPO Nº de Quartos  Preço\n0    1        Barra  Apto.             2    165\n1    2        Barra  Apto.             3    240\n2    3        Barra  Cobt.           NaN    158\n3    4        Barra   Sala           NaN    150\n4    5     Botafogo  Apto.             2     59\n5    6       Catete  Apto.             1     54\n6    7       Centro   Sala           NaN     35\n7    8   Copacabana  Apto.             2     83\n8    9   Copacabana  Apto.             3    180\n9   10   Copacabana  Apto.            4+     85\n10  11     Flamengo  Apto.             1     58\n11  12     Flamengo  Cobt.           NaN    120\n12  13        Gávea  Apto.            4+    250\n13  14      Ipanema  Apto.             3    130\n14  15  Jacarepaguá  Apto.             3     90\n15  16        Lagoa  Apto.             2    130\n16  17  Laranjeiras  Apto.             2     68\n17  18  Laranjeiras  Apto.            4+    360\n18  19       Leblon  Apto.             3    300\n19  20       Leblon  Apto.            4+    600\n20  21     Maracanã  Apto.             3    137\n21  22      Recreio  Cobt.           NaN    240\n22  23  São Conrado   Casa            4+    650\n23  24       Tijuca  Apto.             2     49\n24  25       Tijuca  Apto.             2     95\n25  26       Tijuca  Apto.            4+    170\n26  27  Vila Isabel  Apto.             2     57",
      "text/html": "<div>\n<style scoped>\n    .dataframe tbody tr th:only-of-type {\n        vertical-align: middle;\n    }\n\n    .dataframe tbody tr th {\n        vertical-align: top;\n    }\n\n    .dataframe thead th {\n        text-align: right;\n    }\n</style>\n<table border=\"1\" class=\"dataframe\">\n  <thead>\n    <tr style=\"text-align: right;\">\n      <th></th>\n      <th>ID</th>\n      <th>BAIRO</th>\n      <th>TIPO</th>\n      <th>Nº de Quartos</th>\n      <th>Preço</th>\n    </tr>\n  </thead>\n  <tbody>\n    <tr>\n      <th>0</th>\n      <td>1</td>\n      <td>Barra</td>\n      <td>Apto.</td>\n      <td>2</td>\n      <td>165</td>\n    </tr>\n    <tr>\n      <th>1</th>\n      <td>2</td>\n      <td>Barra</td>\n      <td>Apto.</td>\n      <td>3</td>\n      <td>240</td>\n    </tr>\n    <tr>\n      <th>2</th>\n      <td>3</td>\n      <td>Barra</td>\n      <td>Cobt.</td>\n      <td>NaN</td>\n      <td>158</td>\n    </tr>\n    <tr>\n      <th>3</th>\n      <td>4</td>\n      <td>Barra</td>\n      <td>Sala</td>\n      <td>NaN</td>\n      <td>150</td>\n    </tr>\n    <tr>\n      <th>4</th>\n      <td>5</td>\n      <td>Botafogo</td>\n      <td>Apto.</td>\n      <td>2</td>\n      <td>59</td>\n    </tr>\n    <tr>\n      <th>5</th>\n      <td>6</td>\n      <td>Catete</td>\n      <td>Apto.</td>\n      <td>1</td>\n      <td>54</td>\n    </tr>\n    <tr>\n      <th>6</th>\n      <td>7</td>\n      <td>Centro</td>\n      <td>Sala</td>\n      <td>NaN</td>\n      <td>35</td>\n    </tr>\n    <tr>\n      <th>7</th>\n      <td>8</td>\n      <td>Copacabana</td>\n      <td>Apto.</td>\n      <td>2</td>\n      <td>83</td>\n    </tr>\n    <tr>\n      <th>8</th>\n      <td>9</td>\n      <td>Copacabana</td>\n      <td>Apto.</td>\n      <td>3</td>\n      <td>180</td>\n    </tr>\n    <tr>\n      <th>9</th>\n      <td>10</td>\n      <td>Copacabana</td>\n      <td>Apto.</td>\n      <td>4+</td>\n      <td>85</td>\n    </tr>\n    <tr>\n      <th>10</th>\n      <td>11</td>\n      <td>Flamengo</td>\n      <td>Apto.</td>\n      <td>1</td>\n      <td>58</td>\n    </tr>\n    <tr>\n      <th>11</th>\n      <td>12</td>\n      <td>Flamengo</td>\n      <td>Cobt.</td>\n      <td>NaN</td>\n      <td>120</td>\n    </tr>\n    <tr>\n      <th>12</th>\n      <td>13</td>\n      <td>Gávea</td>\n      <td>Apto.</td>\n      <td>4+</td>\n      <td>250</td>\n    </tr>\n    <tr>\n      <th>13</th>\n      <td>14</td>\n      <td>Ipanema</td>\n      <td>Apto.</td>\n      <td>3</td>\n      <td>130</td>\n    </tr>\n    <tr>\n      <th>14</th>\n      <td>15</td>\n      <td>Jacarepaguá</td>\n      <td>Apto.</td>\n      <td>3</td>\n      <td>90</td>\n    </tr>\n    <tr>\n      <th>15</th>\n      <td>16</td>\n      <td>Lagoa</td>\n      <td>Apto.</td>\n      <td>2</td>\n      <td>130</td>\n    </tr>\n    <tr>\n      <th>16</th>\n      <td>17</td>\n      <td>Laranjeiras</td>\n      <td>Apto.</td>\n      <td>2</td>\n      <td>68</td>\n    </tr>\n    <tr>\n      <th>17</th>\n      <td>18</td>\n      <td>Laranjeiras</td>\n      <td>Apto.</td>\n      <td>4+</td>\n      <td>360</td>\n    </tr>\n    <tr>\n      <th>18</th>\n      <td>19</td>\n      <td>Leblon</td>\n      <td>Apto.</td>\n      <td>3</td>\n      <td>300</td>\n    </tr>\n    <tr>\n      <th>19</th>\n      <td>20</td>\n      <td>Leblon</td>\n      <td>Apto.</td>\n      <td>4+</td>\n      <td>600</td>\n    </tr>\n    <tr>\n      <th>20</th>\n      <td>21</td>\n      <td>Maracanã</td>\n      <td>Apto.</td>\n      <td>3</td>\n      <td>137</td>\n    </tr>\n    <tr>\n      <th>21</th>\n      <td>22</td>\n      <td>Recreio</td>\n      <td>Cobt.</td>\n      <td>NaN</td>\n      <td>240</td>\n    </tr>\n    <tr>\n      <th>22</th>\n      <td>23</td>\n      <td>São Conrado</td>\n      <td>Casa</td>\n      <td>4+</td>\n      <td>650</td>\n    </tr>\n    <tr>\n      <th>23</th>\n      <td>24</td>\n      <td>Tijuca</td>\n      <td>Apto.</td>\n      <td>2</td>\n      <td>49</td>\n    </tr>\n    <tr>\n      <th>24</th>\n      <td>25</td>\n      <td>Tijuca</td>\n      <td>Apto.</td>\n      <td>2</td>\n      <td>95</td>\n    </tr>\n    <tr>\n      <th>25</th>\n      <td>26</td>\n      <td>Tijuca</td>\n      <td>Apto.</td>\n      <td>4+</td>\n      <td>170</td>\n    </tr>\n    <tr>\n      <th>26</th>\n      <td>27</td>\n      <td>Vila Isabel</td>\n      <td>Apto.</td>\n      <td>2</td>\n      <td>57</td>\n    </tr>\n  </tbody>\n</table>\n</div>"
     },
     "execution_count": 2,
     "metadata": {},
     "output_type": "execute_result"
    }
   ],
   "source": [
    "# Tabela 1.1\n",
    "\n",
    "df1 = pd.read_csv('../datasets/tabele1_1.csv')\n",
    "df1.columns = ['ID', 'BAIRO', 'TIPO', 'Nº de Quartos', 'Preço']\n",
    "df1"
   ],
   "metadata": {
    "collapsed": false,
    "ExecuteTime": {
     "end_time": "2023-09-28T00:59:41.202318Z",
     "start_time": "2023-09-28T00:59:41.056353700Z"
    }
   },
   "id": "12709028033beb52"
  },
  {
   "cell_type": "code",
   "execution_count": 3,
   "outputs": [
    {
     "name": "stdout",
     "output_type": "stream",
     "text": [
      "Variveis Qualitativas Nominal: BAIRRO e TIPO\n"
     ]
    }
   ],
   "source": [
    "print('Variveis Qualitativas Nominal: %s e %s' % ('BAIRRO', 'TIPO'))"
   ],
   "metadata": {
    "collapsed": false,
    "ExecuteTime": {
     "end_time": "2023-09-28T00:59:43.254955300Z",
     "start_time": "2023-09-28T00:59:43.233919900Z"
    }
   },
   "id": "bd6afa9acc50d5f3"
  },
  {
   "cell_type": "code",
   "execution_count": 4,
   "outputs": [
    {
     "name": "stdout",
     "output_type": "stream",
     "text": [
      "Varivel Qualitativa Ordinal: \"Nº de Quartos\"\n"
     ]
    }
   ],
   "source": [
    "print('Varivel Qualitativa Ordinal: %s' % '\"Nº de Quartos\"')"
   ],
   "metadata": {
    "collapsed": false,
    "ExecuteTime": {
     "end_time": "2023-09-28T00:59:44.859612500Z",
     "start_time": "2023-09-28T00:59:44.849601200Z"
    }
   },
   "id": "da371312a40a63c0"
  },
  {
   "cell_type": "code",
   "execution_count": 5,
   "outputs": [
    {
     "name": "stdout",
     "output_type": "stream",
     "text": [
      "Variavel Quantitativa Continua: Preço\n"
     ]
    }
   ],
   "source": [
    "print('Variavel Quantitativa Continua: %s' %'Preço')"
   ],
   "metadata": {
    "collapsed": false,
    "ExecuteTime": {
     "end_time": "2023-09-28T00:59:45.877896100Z",
     "start_time": "2023-09-28T00:59:45.852899400Z"
    }
   },
   "id": "b8e29ba3490a8456"
  },
  {
   "cell_type": "code",
   "execution_count": 1,
   "outputs": [],
   "source": [
    "import numpy as np\n",
    "from Conversao import  frequencia_relativa as freq"
   ],
   "metadata": {
    "collapsed": false,
    "ExecuteTime": {
     "end_time": "2023-09-28T02:20:03.694727100Z",
     "start_time": "2023-09-28T02:20:03.578850200Z"
    }
   },
   "id": "f7a1d3df824b4cd5"
  },
  {
   "cell_type": "code",
   "execution_count": 2,
   "outputs": [],
   "source": [
    "#   1.4.1 Tabelas de Frequencia para Variaveis Qualitativas\n",
    "\n",
    "#   Cada linha corresponde a um valor possível da variável\n",
    "#   Usando contagem os valores que constam na coluna de frequência (Frequência Absoluta) são encontrados\n",
    "#   Com os valores da Frequência Absoluta, calcula-se a Frequência Relativa, sobre a forma de percentuais. "
   ],
   "metadata": {
    "collapsed": false,
    "ExecuteTime": {
     "end_time": "2023-09-28T02:20:04.817549700Z",
     "start_time": "2023-09-28T02:20:04.807490100Z"
    }
   },
   "id": "e17c8256d22d1b2e"
  },
  {
   "cell_type": "code",
   "execution_count": 4,
   "outputs": [
    {
     "name": "stdout",
     "output_type": "stream",
     "text": [
      "[11.11, 44.45, 44.44] 100.0\n"
     ]
    }
   ],
   "source": [
    "freq1 = freq([5,20,20])\n",
    "print(freq1, np.sum(freq1))"
   ],
   "metadata": {
    "collapsed": false,
    "ExecuteTime": {
     "end_time": "2023-09-28T02:21:12.316073800Z",
     "start_time": "2023-09-28T02:21:12.295485400Z"
    }
   },
   "id": "e365b34ad1783067"
  },
  {
   "cell_type": "code",
   "execution_count": 22,
   "outputs": [
    {
     "data": {
      "text/plain": "('11.11', '44.44')"
     },
     "execution_count": 22,
     "metadata": {},
     "output_type": "execute_result"
    }
   ],
   "source": [
    "freq(5,45),freq(20,45)"
   ],
   "metadata": {
    "collapsed": false,
    "ExecuteTime": {
     "end_time": "2023-09-28T01:49:49.769109500Z",
     "start_time": "2023-09-28T01:49:49.697345100Z"
    }
   },
   "id": "1a54fb3970bd6371"
  },
  {
   "cell_type": "code",
   "execution_count": 28,
   "outputs": [],
   "source": [
    "n1, n2 = 5/45*100, 20/45*100"
   ],
   "metadata": {
    "collapsed": false,
    "ExecuteTime": {
     "end_time": "2023-09-28T01:59:40.070149300Z",
     "start_time": "2023-09-28T01:59:40.052576700Z"
    }
   },
   "id": "bc7be5e205336b69"
  },
  {
   "cell_type": "code",
   "execution_count": 29,
   "outputs": [
    {
     "data": {
      "text/plain": "11.11111111111111"
     },
     "execution_count": 29,
     "metadata": {},
     "output_type": "execute_result"
    }
   ],
   "source": [
    "n1"
   ],
   "metadata": {
    "collapsed": false,
    "ExecuteTime": {
     "end_time": "2023-09-28T01:59:56.056395400Z",
     "start_time": "2023-09-28T01:59:56.013653300Z"
    }
   },
   "id": "2d907dbd41ea969"
  },
  {
   "cell_type": "code",
   "execution_count": 34,
   "outputs": [
    {
     "data": {
      "text/plain": "44.44"
     },
     "execution_count": 34,
     "metadata": {},
     "output_type": "execute_result"
    }
   ],
   "source": [
    "np.round(n2,2)"
   ],
   "metadata": {
    "collapsed": false,
    "ExecuteTime": {
     "end_time": "2023-09-28T02:03:31.739565400Z",
     "start_time": "2023-09-28T02:03:31.718558Z"
    }
   },
   "id": "9650d16be64edc02"
  },
  {
   "cell_type": "code",
   "execution_count": null,
   "outputs": [],
   "source": [],
   "metadata": {
    "collapsed": false
   },
   "id": "5da95129fe7672f0"
  }
 ],
 "metadata": {
  "kernelspec": {
   "display_name": "Python 3",
   "language": "python",
   "name": "python3"
  },
  "language_info": {
   "codemirror_mode": {
    "name": "ipython",
    "version": 2
   },
   "file_extension": ".py",
   "mimetype": "text/x-python",
   "name": "python",
   "nbconvert_exporter": "python",
   "pygments_lexer": "ipython2",
   "version": "2.7.6"
  }
 },
 "nbformat": 4,
 "nbformat_minor": 5
}
